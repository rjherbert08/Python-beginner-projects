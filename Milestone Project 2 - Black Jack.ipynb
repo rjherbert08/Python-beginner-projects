{
 "cells": [
  {
   "cell_type": "code",
   "execution_count": 12,
   "metadata": {},
   "outputs": [],
   "source": [
    "import random\n",
    "\n",
    "suits = ('Hearts','Diamonds','Spades','Clubs')\n",
    "ranks = ('Two','Three','Four','Five','Six','Seven','Eight','Nine','Jack','Queen','King','Ace')\n",
    "values = {'Two':2,'Three':3,'Four':4,'Five':5,'Six':6,'Seven':7,'Eight':8,'Nine':9,'Jack':10,'Queen':10,'King':10,'Ace':11}\n",
    "\n",
    "playing = True"
   ]
  },
  {
   "cell_type": "code",
   "execution_count": 13,
   "metadata": {},
   "outputs": [],
   "source": [
    "class Card():\n",
    "    \n",
    "    def __init__(self,suit,rank):\n",
    "        self.suit = suit\n",
    "        self.rank = rank\n",
    "        \n",
    "    def __str__(self):\n",
    "        return self.rank+ \" of \"+self.suit"
   ]
  },
  {
   "cell_type": "code",
   "execution_count": 23,
   "metadata": {},
   "outputs": [],
   "source": [
    "class Deck():\n",
    "    \n",
    "    def __init__(self):\n",
    "        self.deck = [] #start with an empty list\n",
    "        for suit in suits:\n",
    "            for rank in ranks:\n",
    "                self.deck.append(Card(suit,rank))\n",
    "            \n",
    "    def __str__(self):\n",
    "        deck_comp = ''\n",
    "        for card in self.deck:\n",
    "            deck_comp += '\\n' + card.__str__()\n",
    "        return \"The Deck has: \"+deck_comp\n",
    "        \n",
    "    def shuffle(self):\n",
    "        random.shuffle(self.deck)\n",
    "        \n",
    "    def deal(self):\n",
    "        single_card = self.deck.pop()\n",
    "        return single_card\n",
    "        \n",
    "        "
   ]
  },
  {
   "cell_type": "code",
   "execution_count": 27,
   "metadata": {},
   "outputs": [
    {
     "name": "stdout",
     "output_type": "stream",
     "text": [
      "The Deck has: \n",
      "Nine of Spades\n",
      "Seven of Hearts\n",
      "Queen of Diamonds\n",
      "Six of Hearts\n",
      "Ace of Hearts\n",
      "Queen of Clubs\n",
      "Queen of Hearts\n",
      "Ace of Clubs\n",
      "Two of Clubs\n",
      "King of Hearts\n",
      "King of Clubs\n",
      "Four of Spades\n",
      "Four of Clubs\n",
      "Four of Hearts\n",
      "Eight of Diamonds\n",
      "Four of Diamonds\n",
      "Five of Diamonds\n",
      "Eight of Spades\n",
      "Jack of Diamonds\n",
      "Jack of Spades\n",
      "Seven of Spades\n",
      "Two of Spades\n",
      "Five of Spades\n",
      "Eight of Clubs\n",
      "Six of Clubs\n",
      "Nine of Clubs\n",
      "Jack of Hearts\n",
      "Five of Hearts\n",
      "Ace of Diamonds\n",
      "Six of Diamonds\n",
      "Nine of Hearts\n",
      "Three of Clubs\n",
      "Queen of Spades\n",
      "Eight of Hearts\n",
      "Nine of Diamonds\n",
      "Five of Clubs\n",
      "Three of Spades\n",
      "Ace of Spades\n",
      "Three of Diamonds\n",
      "Seven of Clubs\n",
      "Seven of Diamonds\n",
      "Two of Hearts\n",
      "Six of Spades\n",
      "King of Spades\n",
      "Three of Hearts\n",
      "Two of Diamonds\n",
      "Jack of Clubs\n",
      "King of Diamonds\n"
     ]
    }
   ],
   "source": [
    "test_deck = Deck()\n",
    "test_deck.shuffle()\n",
    "print(test_deck)"
   ]
  },
  {
   "cell_type": "code",
   "execution_count": null,
   "metadata": {},
   "outputs": [],
   "source": [
    "class Hand():\n",
    "    def __init__(self):\n",
    "        self.cards = []   # start with an empty list\n",
    "        self.value = 0    #start with zero vlue\n",
    "        self.aces = 0     #add an attribute to keep track of aces\n",
    "        \n",
    "    def add_card(self,card):\n",
    "        #card passed in\n",
    "        #from deck.deal()--> single card(suit,rank)\n",
    "        self.cards.append(card)\n",
    "        self.value += vlues[card.rank]\n",
    "        \n",
    "        #track aces\n",
    "        if card.rank == 'Ace':\n",
    "            self.card += 1\n",
    "        \n",
    "    def adjust_for_ace(self):\n",
    "        \n",
    "        #total value> 21 and i still have an ace\n",
    "        #than change my ace to be 1 instead of 11\n",
    "        while self.value > 21 and self.aces:\n",
    "            self.value -= 10   #minus 10 from the ace value\n",
    "            self.aces -= 1     #minus the ace from the count\n",
    "        "
   ]
  },
  {
   "cell_type": "code",
   "execution_count": 28,
   "metadata": {},
   "outputs": [],
   "source": [
    "class Chips():\n",
    "    \n",
    "    def __intit__(self,total=100):\n",
    "        self.total = total\n",
    "        self.bet = 0\n",
    "        \n",
    "    def win_bet(self):\n",
    "        self.total += self.bet\n",
    "        \n",
    "    def lose_bet(self):\n",
    "        self.total -= self.bet"
   ]
  },
  {
   "cell_type": "code",
   "execution_count": null,
   "metadata": {},
   "outputs": [],
   "source": [
    "def take_bet(chips):\n",
    "    \n",
    "    while True:\n",
    "        \n",
    "        try:\n",
    "            cjips.bet = int(input(\"How much would you like to bet? \"))\n",
    "        except:\n",
    "            print(\"Sorry please provide amd intiger\")\n",
    "        else:\n",
    "            if chips.bet > cjips.total:\n",
    "                print('Sorry, you dont have enough chips! n\\You have: {}'.format((chips.total)))\n",
    "            else:\n",
    "                break"
   ]
  },
  {
   "cell_type": "code",
   "execution_count": null,
   "metadata": {},
   "outputs": [],
   "source": [
    "def hit(self,hand):\n",
    "    \n",
    "    single_card = deck.deal()\n",
    "    hand.add_card(single_card)\n",
    "    hand.adjust_for_ace()\n",
    "    "
   ]
  },
  {
   "cell_type": "code",
   "execution_count": null,
   "metadata": {},
   "outputs": [],
   "source": [
    "def hit_or_stand(deck,hand):\n",
    "    global playing\n",
    "    \n",
    "    while True:\n",
    "        x = input('Hit or Stand? Enter h or s ')\n",
    "        \n",
    "        if x[0].lower() == 'h':\n",
    "            hit(deck,hand)\n",
    "        elif x[0].lower() == 's':\n",
    "            print('Player Stands, Dealers Turn')\n",
    "            playing = False\n",
    "            \n",
    "        else:\n",
    "            Print('Sorry I did not understand, Please Enter h or s only!')\n",
    "            continue\n",
    "        \n",
    "        break"
   ]
  },
  {
   "cell_type": "code",
   "execution_count": null,
   "metadata": {},
   "outputs": [],
   "source": [
    "def show_some(player,dealer)\n",
    "\n",
    "    print('Dealers Hand:')\n",
    "    print('One card hidden!')\n",
    "    print(dealer.cards[1])\n",
    "    print('\\n')\n",
    "    print('Players hand:')\n",
    "    for card in payer.cards:\n",
    "        print(card)\n",
    "        \n",
    "def show_all(player,dealer)\n",
    "\n",
    "    print('Dealers hand:')\n",
    "    for card in dealer.cards:\n",
    "        print(card)\n",
    "    print('\\n')\n",
    "    print('Players hand')\n",
    "    for card in player.cards:\n",
    "        print(card)\n",
    "    "
   ]
  },
  {
   "cell_type": "code",
   "execution_count": null,
   "metadata": {},
   "outputs": [],
   "source": [
    "def player_busts(player,dealer,chips):\n",
    "    print('Bust Player!')\n",
    "    chips.lose_bet()\n",
    "\n",
    "def player_wins(player,dealer,chips):\n",
    "    print('Player Wins!')\n",
    "    chips.win_bet\n",
    "    \n",
    "def dealer_busts(player,dealer,chips):\n",
    "    print('Dealer Bust! Player Wins')\n",
    "    chips.win_bet\n",
    "    \n",
    "def dealer_wins(player,dealer,chips):\n",
    "    print('Dealer Wins')\n",
    "    chips.lose_bet\n",
    "    \n",
    "def push(player,dealer):\n",
    "    print('Dealer and Player Tie! PUSH')\n",
    "    \n",
    "\n",
    "    "
   ]
  },
  {
   "cell_type": "code",
   "execution_count": null,
   "metadata": {},
   "outputs": [],
   "source": [
    "while True"
   ]
  }
 ],
 "metadata": {
  "kernelspec": {
   "display_name": "Python 3",
   "language": "python",
   "name": "python3"
  },
  "language_info": {
   "codemirror_mode": {
    "name": "ipython",
    "version": 3
   },
   "file_extension": ".py",
   "mimetype": "text/x-python",
   "name": "python",
   "nbconvert_exporter": "python",
   "pygments_lexer": "ipython3",
   "version": "3.7.4"
  }
 },
 "nbformat": 4,
 "nbformat_minor": 2
}
