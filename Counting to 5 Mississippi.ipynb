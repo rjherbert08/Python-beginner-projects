{
 "cells": [
  {
   "cell_type": "code",
   "execution_count": 1,
   "metadata": {},
   "outputs": [
    {
     "name": "stdout",
     "output_type": "stream",
     "text": [
      "1 Mississippi\n",
      "2 Mississippi\n",
      "3 Mississippi\n",
      "4 Mississippi\n",
      "5 Mississippi\n",
      "Ready or not, here I come!\n"
     ]
    }
   ],
   "source": [
    "#counting to 5 seconds\n",
    "\n",
    "import time\n",
    "\n",
    "# A for loop that counts to five.\n",
    "for i in range(1, 6):\n",
    "\n",
    "\n",
    "    # Body of the loop - prints the loop iteration number and the word \"Mississippi\".\n",
    "    print(i, \"Mississippi\") \n",
    "    \n",
    "    # Body of the loop: time.sleep(1)\n",
    "    time.sleep(1)\n",
    "    \n",
    "\n",
    "# Final message.\n",
    "print('Ready or not, here I come!')"
   ]
  },
  {
   "cell_type": "code",
   "execution_count": null,
   "metadata": {},
   "outputs": [],
   "source": []
  }
 ],
 "metadata": {
  "kernelspec": {
   "display_name": "Python 3",
   "language": "python",
   "name": "python3"
  },
  "language_info": {
   "codemirror_mode": {
    "name": "ipython",
    "version": 3
   },
   "file_extension": ".py",
   "mimetype": "text/x-python",
   "name": "python",
   "nbconvert_exporter": "python",
   "pygments_lexer": "ipython3",
   "version": "3.7.4"
  }
 },
 "nbformat": 4,
 "nbformat_minor": 2
}
