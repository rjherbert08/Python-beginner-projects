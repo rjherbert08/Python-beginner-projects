{
 "cells": [
  {
   "cell_type": "code",
   "execution_count": 1,
   "metadata": {},
   "outputs": [
    {
     "name": "stdout",
     "output_type": "stream",
     "text": [
      "Enter your word: this is a test for the vowels getting deleted\n",
      "T\n",
      "H\n",
      "S\n",
      " \n",
      "S\n",
      " \n",
      " \n",
      "T\n",
      "S\n",
      "T\n",
      " \n",
      "F\n",
      "R\n",
      " \n",
      "T\n",
      "H\n",
      " \n",
      "V\n",
      "W\n",
      "L\n",
      "S\n",
      " \n",
      "G\n",
      "T\n",
      "T\n",
      "N\n",
      "G\n",
      " \n",
      "D\n",
      "L\n",
      "T\n",
      "D\n"
     ]
    }
   ],
   "source": [
    "#taking userWord and printing it without any vowels: a, e, i, o, u:\n",
    "\n",
    "userWord = input(\"Enter your word: \")\n",
    "userWord = userWord.upper()\n",
    "\n",
    "for letter in userWord:\n",
    "    if letter == \"A\":\n",
    "        continue\n",
    "    elif letter == \"E\":\n",
    "        continue\n",
    "    elif letter == \"I\":\n",
    "        continue\n",
    "    elif letter == \"O\":\n",
    "        continue\n",
    "    elif letter == \"U\":\n",
    "        continue\n",
    "    else:\n",
    "        print(letter)"
   ]
  },
  {
   "cell_type": "code",
   "execution_count": null,
   "metadata": {},
   "outputs": [],
   "source": []
  },
  {
   "cell_type": "code",
   "execution_count": null,
   "metadata": {},
   "outputs": [],
   "source": []
  }
 ],
 "metadata": {
  "kernelspec": {
   "display_name": "Python 3",
   "language": "python",
   "name": "python3"
  },
  "language_info": {
   "codemirror_mode": {
    "name": "ipython",
    "version": 3
   },
   "file_extension": ".py",
   "mimetype": "text/x-python",
   "name": "python",
   "nbconvert_exporter": "python",
   "pygments_lexer": "ipython3",
   "version": "3.7.4"
  }
 },
 "nbformat": 4,
 "nbformat_minor": 2
}
