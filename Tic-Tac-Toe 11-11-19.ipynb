{
 "cells": [
  {
   "cell_type": "code",
   "execution_count": 1,
   "metadata": {},
   "outputs": [],
   "source": [
    "from IPython.display import clear_output\n",
    "\n",
    "def display_board(board):\n",
    "    clear_output()\n",
    "    #board set up like keypad\n",
    "    print(board[7]+'|'+board[8]+'|'+board[9])\n",
    "    print('-|-|-')\n",
    "    print(board[4]+'|'+board[5]+'|'+board[6])\n",
    "    print('-|-|-')\n",
    "    print(board[1]+'|'+board[2]+'|'+board[3])"
   ]
  },
  {
   "cell_type": "code",
   "execution_count": 2,
   "metadata": {},
   "outputs": [],
   "source": [
    "def player_input():\n",
    "    \n",
    "    marker = ''\n",
    "    while not (marker == 'X' or marker == 'O'):\n",
    "        marker = input('Player 1: Choose X or O: ').upper()\n",
    "        \n",
    "    if marker == 'X':\n",
    "        \n",
    "        return ('X','O')\n",
    "    else:\n",
    "        return('O','X')"
   ]
  },
  {
   "cell_type": "code",
   "execution_count": 3,
   "metadata": {},
   "outputs": [],
   "source": [
    "def place_marker(board, marker, position):\n",
    "    board[position] = marker"
   ]
  },
  {
   "cell_type": "code",
   "execution_count": 4,
   "metadata": {},
   "outputs": [],
   "source": [
    "def win_check(board, mark):\n",
    "    return((board[1] == board[2] == board[3] == mark) or\n",
    "    (board[4] == board[5] == board[6] == mark) or\n",
    "    (board[7] == board[8] == board[8] == mark) or\n",
    "    (board[1] == board[4] == board[7] == mark) or\n",
    "    (board[2] == board[5] == board[8] == mark) or\n",
    "    (board[3] == board[6] == board[9] == mark) or\n",
    "    (board[1] == board[5] == board[9] == mark) or\n",
    "    (board[3] == board[5] == board[7] == mark))"
   ]
  },
  {
   "cell_type": "code",
   "execution_count": 5,
   "metadata": {},
   "outputs": [],
   "source": [
    "import random\n",
    "\n",
    "def choose_first():\n",
    "    flip = random.randint(0,1)\n",
    "    if flip == 0:\n",
    "        return 'Player 1'\n",
    "    else:\n",
    "        return 'Player 2'"
   ]
  },
  {
   "cell_type": "code",
   "execution_count": 6,
   "metadata": {},
   "outputs": [],
   "source": [
    "def space_check(board, position):\n",
    "    return board[position] == ' '"
   ]
  },
  {
   "cell_type": "code",
   "execution_count": 7,
   "metadata": {},
   "outputs": [],
   "source": [
    "def full_board_check(board):\n",
    "    for i in range(1,10):\n",
    "        if space_check(board,i):\n",
    "            return False  \n",
    "    return True"
   ]
  },
  {
   "cell_type": "code",
   "execution_count": 8,
   "metadata": {},
   "outputs": [],
   "source": [
    "def player_choice(board):\n",
    "    position = 0\n",
    "    while position not in [1,2,3,4,5,6,7,8,9] or not space_check(board,position):\n",
    "        position = int(input('choose a position: (1-9) '))\n",
    "    return position"
   ]
  },
  {
   "cell_type": "code",
   "execution_count": 9,
   "metadata": {},
   "outputs": [],
   "source": [
    "def replay():\n",
    "    choice = input(\"Play again? Enter Yes or No: \")\n",
    "    return choice == 'Yes'"
   ]
  },
  {
   "cell_type": "code",
   "execution_count": null,
   "metadata": {},
   "outputs": [
    {
     "name": "stdout",
     "output_type": "stream",
     "text": [
      "O|X|X\n",
      "-|-|-\n",
      "X|O|O\n",
      "-|-|-\n",
      "X|O|X\n",
      "Tie Game\n"
     ]
    }
   ],
   "source": [
    "print('Welcome to TIC TAC TOE!')\n",
    "\n",
    "while True:\n",
    "    the_board = [' ']*10\n",
    "    player1_marker,player2_marker = player_input()\n",
    "    \n",
    "    turn = choose_first()\n",
    "    print(turn + ' will go first')\n",
    "    \n",
    "    play_game = input('Ready to play? Y or N: ').upper()\n",
    "    \n",
    "    if play_game == 'Y':\n",
    "        game_on = True\n",
    "    else:\n",
    "        game_on = False\n",
    "        \n",
    "    while game_on:\n",
    "        if turn == 'Player 1':\n",
    "            \n",
    "            display_board(the_board)\n",
    "            position = player_choice(the_board)\n",
    "            place_marker(the_board, player1_marker,position)\n",
    "            \n",
    "            if win_check(the_board,player1_marker):\n",
    "                display_board(the_board)\n",
    "                print('Player 1 has WON!')\n",
    "                game_on = False\n",
    "            else:\n",
    "                if full_board_check(the_board):\n",
    "                    display_board(the_board)\n",
    "                    print('Tie Game')\n",
    "                    game_on = False\n",
    "                else:\n",
    "                    turn = 'Player 2'\n",
    "                    \n",
    "        else:\n",
    "            display_board(the_board)\n",
    "            position = player_choice(the_board)\n",
    "            place_marker(the_board, player2_marker,position)\n",
    "            \n",
    "            if win_check(the_board,player2_marker):\n",
    "                display_board(the_board)\n",
    "                print('Player 2 has WON!')\n",
    "                game_on = False\n",
    "            else:\n",
    "                if full_board_check(the_board):\n",
    "                    display_board(the_board)\n",
    "                    print('Tie Game')\n",
    "                    game_on = False\n",
    "                else:\n",
    "                    turn = 'Player 1'\n",
    "                    \n",
    "    if not replay():\n",
    "        break\n",
    "            "
   ]
  },
  {
   "cell_type": "code",
   "execution_count": null,
   "metadata": {},
   "outputs": [],
   "source": []
  },
  {
   "cell_type": "code",
   "execution_count": null,
   "metadata": {},
   "outputs": [],
   "source": []
  },
  {
   "cell_type": "code",
   "execution_count": null,
   "metadata": {},
   "outputs": [],
   "source": []
  }
 ],
 "metadata": {
  "kernelspec": {
   "display_name": "Python 3",
   "language": "python",
   "name": "python3"
  },
  "language_info": {
   "codemirror_mode": {
    "name": "ipython",
    "version": 3
   },
   "file_extension": ".py",
   "mimetype": "text/x-python",
   "name": "python",
   "nbconvert_exporter": "python",
   "pygments_lexer": "ipython3",
   "version": "3.7.4"
  }
 },
 "nbformat": 4,
 "nbformat_minor": 2
}
